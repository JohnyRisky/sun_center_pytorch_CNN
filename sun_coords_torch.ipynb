{
 "cells": [
  {
   "cell_type": "code",
   "execution_count": 104,
   "id": "a2816a47-8ccf-48a5-93f5-4a7f8e1fea25",
   "metadata": {},
   "outputs": [
    {
     "name": "stdout",
     "output_type": "stream",
     "text": [
      "Requirement already satisfied: pygame in d:\\anaconda\\lib\\site-packages (2.6.1)\n"
     ]
    }
   ],
   "source": [
    "!pip install pygame\n",
    "\n",
    "import torch\n",
    "import torch.nn as nn\n",
    "import torch.nn.functional as F\n",
    "import torch.utils.data as utils\n",
    "import torch.optim as optim\n",
    "import torchvision.transforms.v2 as v2\n",
    "\n",
    "import pygame as pg\n",
    "\n",
    "import os\n",
    "import json\n",
    "from random import randint\n",
    "\n",
    "from PIL import Image"
   ]
  },
  {
   "cell_type": "code",
   "execution_count": 106,
   "id": "2016d1a7-adad-41d3-81bc-1124f2c6c86c",
   "metadata": {},
   "outputs": [],
   "source": [
    "train_data = {\"qty\": 1000, \"dir\": \"train\"}\n",
    "test_data = {\"qty\": 400, \"dir\": \"test\"}\n",
    "\n",
    "dataset_dir = \"Sun_dataset\"\n",
    "coords_file = \"coords.json\"\n",
    "\n",
    "if not os.path.exists(dataset_dir):\n",
    "    os.mkdir(dataset_dir)\n",
    "    if not os.path.exists(os.path.join(dataset_dir, train_data[\"dir\"])):\n",
    "        os.mkdir(os.path.join(dataset_dir, train_data[\"dir\"]))\n",
    "    if not os.path.exists(os.path.join(dataset_dir, test_data[\"dir\"])):\n",
    "        os.mkdir(os.path.join(dataset_dir, test_data[\"dir\"]))\n"
   ]
  },
  {
   "cell_type": "code",
   "execution_count": 108,
   "id": "6c3ae7c4-1ffd-4212-9918-7c5901073d54",
   "metadata": {},
   "outputs": [],
   "source": [
    "sun = pg.image.load(\"imgs/sun.png\")\n",
    "backgrounds = [pygame.image.load(f\"imgs/{img}\") for img in os.listdir(\"imgs\") if img.startswith(\"img\")]\n",
    "\n",
    "backgrounds_len = len(backgrounds)\n",
    "\n",
    "for data in (train_data, test_data):\n",
    "    sun_coords = {}\n",
    "\n",
    "    for i in range(1, data[\"qty\"]):\n",
    "        img_name = f\"sun_gen_{i}.png\"\n",
    "        random_background = backgrounds[randint(0, backgrounds_len) - 1].copy()\n",
    "\n",
    "        for i in range(randint(20, 100)):\n",
    "            pg.draw.circle(random_background, \n",
    "                           color=tuple([randint(0, 255) for _ in range(3)]), \n",
    "                           center=tuple([randint(0, 255) for _ in range(2)]), \n",
    "                           radius=1)\n",
    "\n",
    "        x = randint(32, 256 - 32)\n",
    "        y = randint(32, 256 - 32)\n",
    "        sun_coords[img_name] = (x, y)\n",
    "        random_background.blit(sun, (x-32, y-32))\n",
    "\n",
    "        pg.image.save(random_background, os.path.join(dataset_dir, data['dir'], img_name))\n",
    "\n",
    "    with open(os.path.join(dataset_dir, data[\"dir\"], coords_file), \"w\") as coordinates_file:\n",
    "        json.dump(sun_coords, coordinates_file)"
   ]
  },
  {
   "cell_type": "code",
   "execution_count": 178,
   "id": "244eea98-f217-4c78-a1a1-335070b9f178",
   "metadata": {},
   "outputs": [],
   "source": [
    "class SunDataset(utils.Dataset):\n",
    "    def __init__(self, path, train=True, tfs=None):\n",
    "        self.path = os.path.join(dataset_dir, \"train\" if train else \"test\")\n",
    "        self.tfs = tfs\n",
    "\n",
    "        with open(os.path.join(self.path, coords_file), \"r\") as cf:\n",
    "            self.coords = json.load(cf)\n",
    "\n",
    "        self.length = len(self.coords)\n",
    "        self.imgs = tuple(self.coords.keys())\n",
    "        self.targets = tuple(self.coords.values())\n",
    "\n",
    "    def __getitem__(self, item):\n",
    "        img_path = os.path.join(self.path, self.imgs[item])\n",
    "        image = Image.open(fp=img_path).convert(\"RGB\")\n",
    "\n",
    "        if tfs:\n",
    "            image = self.tfs(image)\n",
    "\n",
    "        return image, torch.tensor(self.targets[item], dtype=torch.float32)\n",
    "\n",
    "    def __len__(self):\n",
    "        return self.length\n",
    "\n",
    "tfs = v2.Compose([v2.ToImage(), v2.ToDtype(torch.float32, scale=True)])\n",
    "dataset_unit = SunDataset(dataset_dir, tfs=tfs)\n",
    "train_data = utils.DataLoader(dataset_unit, batch_size=32, shuffle=True)"
   ]
  },
  {
   "cell_type": "code",
   "execution_count": 180,
   "id": "5dd0e0c8-fce6-439b-8906-c0ed6649636d",
   "metadata": {},
   "outputs": [],
   "source": [
    "model = nn.Sequential( # Сама модель \n",
    "    nn.Conv2d(3, 32, 3, padding=\"same\"),\n",
    "    nn.ReLU(),\n",
    "    nn.MaxPool2d(2),\n",
    "    nn.Conv2d(32, 8, 3, padding=\"same\"),\n",
    "    nn.ReLU(),\n",
    "    nn.MaxPool2d(2),\n",
    "    nn.Conv2d(8, 4, 3, padding=\"same\"),\n",
    "    nn.ReLU(),\n",
    "    nn.MaxPool2d(2),\n",
    "    nn.Flatten(),\n",
    "    nn.Linear(4096, 128),\n",
    "    nn.ReLU(),\n",
    "    #nn.BatchNorm1d(128),\n",
    "    nn.Linear(128, 2)\n",
    ")\n",
    "\n",
    "optimizer = optim.Adam(model.parameters(), lr=0.001, weight_decay=0.001) # Оптимизатор\n",
    "loss_func = nn.MSELoss() # функция потерь для регрессии"
   ]
  },
  {
   "cell_type": "code",
   "execution_count": 182,
   "id": "abc49628-7196-49da-9109-cb733d3834f4",
   "metadata": {},
   "outputs": [
    {
     "name": "stderr",
     "output_type": "stream",
     "text": [
      "Эпоха 1 из 8, значения потерь -  11071.83: 100%|██████████| 32/32 [00:34<00:00,  1.08s/it]\n",
      "Эпоха 2 из 8, значения потерь -  3548.49: 100%|██████████| 32/32 [00:30<00:00,  1.06it/s]\n",
      "Эпоха 3 из 8, значения потерь -  3374.26: 100%|██████████| 32/32 [00:27<00:00,  1.15it/s]\n",
      "Эпоха 4 из 8, значения потерь -  3241.37: 100%|██████████| 32/32 [00:26<00:00,  1.19it/s]\n",
      "Эпоха 5 из 8, значения потерь -  3300.07: 100%|██████████| 32/32 [00:26<00:00,  1.23it/s]\n",
      "Эпоха 6 из 8, значения потерь -  3538.10: 100%|██████████| 32/32 [00:25<00:00,  1.27it/s]\n",
      "Эпоха 7 из 8, значения потерь -  3396.40: 100%|██████████| 32/32 [00:24<00:00,  1.28it/s]\n",
      "Эпоха 8 из 8, значения потерь -  3092.12: 100%|██████████| 32/32 [00:24<00:00,  1.28it/s]\n"
     ]
    }
   ],
   "source": [
    "from tqdm import tqdm\n",
    "\n",
    "epochs = 8\n",
    "model.train()\n",
    "\n",
    "for epoch in range(epochs):\n",
    "    tqdm_train = tqdm(train_data, leave=True)\n",
    "    loss_mean = 0\n",
    "    lm_count = 0\n",
    "    \n",
    "    for x_train, y_train in tqdm_train:\n",
    "        prediction = model(x_train)\n",
    "        loss = loss_func(prediction, y_train)\n",
    "\n",
    "        optimizer.zero_grad()\n",
    "        loss.backward()\n",
    "        optimizer.step()\n",
    "\n",
    "        lm_count += 1\n",
    "        loss_mean = 1/lm_count * loss.item() + (1 - 1/lm_count) * loss_mean\n",
    "        tqdm_train.set_description(f\"Эпоха {epoch+1} из {epochs}, значения потерь - {loss_mean: .2f}\")\n",
    "\n",
    "\n",
    "#model_state = model.state_dict()\n",
    "#torch.save(model_state, 'model_state_1.tar')"
   ]
  },
  {
   "cell_type": "code",
   "execution_count": 118,
   "id": "8e175176-ddea-4856-98c1-564120128919",
   "metadata": {},
   "outputs": [
    {
     "name": "stderr",
     "output_type": "stream",
     "text": [
      "                                             \r"
     ]
    },
    {
     "data": {
      "text/plain": [
       "453.0337829589844"
      ]
     },
     "execution_count": 118,
     "metadata": {},
     "output_type": "execute_result"
    }
   ],
   "source": [
    "test_dataset = SunDataset(dataset_dir, train=False, tfs=tfs)\n",
    "test_data = utils.DataLoader(test_dataset, batch_size=96, shuffle=False, drop_last=True)\n",
    "\n",
    "model_quality = 0\n",
    "stage = 0\n",
    "\n",
    "model.eval()\n",
    "\n",
    "tqdm_test = tqdm(test_data, leave=False)\n",
    "for x_test, y_test in tqdm_test:\n",
    "    with torch.no_grad():\n",
    "        predict = model(x_test)\n",
    "        model_quality += loss_func(predict, y_test).item()\n",
    "        stage += 1\n",
    "\n",
    "result = model_quality / stage\n",
    "result\n",
    "        \n",
    "    \n"
   ]
  },
  {
   "cell_type": "code",
   "execution_count": null,
   "id": "48112f9d-a62b-4fd6-87c2-8c7046af5483",
   "metadata": {},
   "outputs": [],
   "source": []
  }
 ],
 "metadata": {
  "kernelspec": {
   "display_name": "Python 3 (ipykernel)",
   "language": "python",
   "name": "python3"
  },
  "language_info": {
   "codemirror_mode": {
    "name": "ipython",
    "version": 3
   },
   "file_extension": ".py",
   "mimetype": "text/x-python",
   "name": "python",
   "nbconvert_exporter": "python",
   "pygments_lexer": "ipython3",
   "version": "3.12.7"
  }
 },
 "nbformat": 4,
 "nbformat_minor": 5
}
